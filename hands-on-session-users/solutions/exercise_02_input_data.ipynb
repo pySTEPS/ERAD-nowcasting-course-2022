{
  "nbformat": 4,
  "nbformat_minor": 0,
  "metadata": {
    "colab": {
      "name": "input_data.ipynb",
      "provenance": [],
      "collapsed_sections": [],
      "authorship_tag": "ABX9TyPaAtJqUf1S7LD2NIcsXT3a",
      "include_colab_link": true
    },
    "kernelspec": {
      "name": "python3",
      "display_name": "Python 3"
    },
    "language_info": {
      "name": "python"
    }
  },
  "cells": [
    {
      "cell_type": "markdown",
      "metadata": {
        "id": "view-in-github",
        "colab_type": "text"
      },
      "source": [
        "<a href=\"https://colab.research.google.com/github/pySTEPS/ERAD-nowcasting-course-2022/blob/hands-on-users/solutions/exercise_02_input_data.ipynb\" target=\"_parent\"><img src=\"https://colab.research.google.com/assets/colab-badge.svg\" alt=\"Open In Colab\"/></a>"
      ]
    },
    {
      "cell_type": "code",
      "source": [
        "!pip install pysteps"
      ],
      "metadata": {
        "colab": {
          "base_uri": "https://localhost:8080/"
        },
        "id": "1iLidEda0Rbr",
        "outputId": "bc07dbe7-be69-4195-c4d5-c13799fa5b2c"
      },
      "execution_count": null,
      "outputs": [
        {
          "output_type": "stream",
          "name": "stdout",
          "text": [
            "Looking in indexes: https://pypi.org/simple, https://us-python.pkg.dev/colab-wheels/public/simple/\n",
            "Collecting pysteps\n",
            "  Downloading pysteps-1.6.3.tar.gz (496 kB)\n",
            "\u001b[K     |████████████████████████████████| 496 kB 3.1 MB/s \n",
            "\u001b[?25h  Installing build dependencies ... \u001b[?25l\u001b[?25hdone\n",
            "  Getting requirements to build wheel ... \u001b[?25l\u001b[?25hdone\n",
            "  Installing backend dependencies ... \u001b[?25l\u001b[?25hdone\n",
            "    Preparing wheel metadata ... \u001b[?25l\u001b[?25hdone\n",
            "Requirement already satisfied: jsonschema in /usr/local/lib/python3.7/dist-packages (from pysteps) (4.3.3)\n",
            "Requirement already satisfied: numpy in /usr/local/lib/python3.7/dist-packages (from pysteps) (1.21.6)\n",
            "Collecting jsmin\n",
            "  Using cached jsmin-3.0.1-py3-none-any.whl\n",
            "Requirement already satisfied: scipy in /usr/local/lib/python3.7/dist-packages (from pysteps) (1.7.3)\n",
            "Requirement already satisfied: matplotlib in /usr/local/lib/python3.7/dist-packages (from pysteps) (3.2.2)\n",
            "Requirement already satisfied: pyrsistent!=0.17.0,!=0.17.1,!=0.17.2,>=0.14.0 in /usr/local/lib/python3.7/dist-packages (from jsonschema->pysteps) (0.18.1)\n",
            "Requirement already satisfied: typing-extensions in /usr/local/lib/python3.7/dist-packages (from jsonschema->pysteps) (4.1.1)\n",
            "Requirement already satisfied: importlib-resources>=1.4.0 in /usr/local/lib/python3.7/dist-packages (from jsonschema->pysteps) (5.9.0)\n",
            "Requirement already satisfied: importlib-metadata in /usr/local/lib/python3.7/dist-packages (from jsonschema->pysteps) (4.12.0)\n",
            "Requirement already satisfied: attrs>=17.4.0 in /usr/local/lib/python3.7/dist-packages (from jsonschema->pysteps) (21.4.0)\n",
            "Requirement already satisfied: zipp>=3.1.0 in /usr/local/lib/python3.7/dist-packages (from importlib-resources>=1.4.0->jsonschema->pysteps) (3.8.1)\n",
            "Requirement already satisfied: python-dateutil>=2.1 in /usr/local/lib/python3.7/dist-packages (from matplotlib->pysteps) (2.8.2)\n",
            "Requirement already satisfied: kiwisolver>=1.0.1 in /usr/local/lib/python3.7/dist-packages (from matplotlib->pysteps) (1.4.4)\n",
            "Requirement already satisfied: pyparsing!=2.0.4,!=2.1.2,!=2.1.6,>=2.0.1 in /usr/local/lib/python3.7/dist-packages (from matplotlib->pysteps) (3.0.9)\n",
            "Requirement already satisfied: cycler>=0.10 in /usr/local/lib/python3.7/dist-packages (from matplotlib->pysteps) (0.11.0)\n",
            "Requirement already satisfied: six>=1.5 in /usr/local/lib/python3.7/dist-packages (from python-dateutil>=2.1->matplotlib->pysteps) (1.15.0)\n",
            "Building wheels for collected packages: pysteps\n",
            "  Building wheel for pysteps (PEP 517) ... \u001b[?25l\u001b[?25hdone\n",
            "  Created wheel for pysteps: filename=pysteps-1.6.3-cp37-cp37m-linux_x86_64.whl size=1082050 sha256=1d0c4cf6a9d9b35d5f8d9b145c97c6270f1477acdae718a3a8559439e05a9d6c\n",
            "  Stored in directory: /root/.cache/pip/wheels/16/4a/cc/18934087b86dee897a58fad9f847a223a52a15fac94a934b90\n",
            "Successfully built pysteps\n",
            "Installing collected packages: jsmin, pysteps\n",
            "Successfully installed jsmin-3.0.1 pysteps-1.6.3\n"
          ]
        }
      ]
    },
    {
      "cell_type": "markdown",
      "source": [
        "# Load and visualize the input data\n",
        "\n",
        "In this example, we show how to use the utility functions for loading the sample datasets and plot the data by using the pysteps visualization tools."
      ],
      "metadata": {
        "id": "d1KqTEP91mOT"
      }
    },
    {
      "cell_type": "markdown",
      "source": [
        "## Download the example data\n",
        "\n",
        "First, we will use the [pysteps.datasets.download_pysteps_data()](https://pysteps.readthedocs.io/en/latest/generated/pysteps.datasets.download_pysteps_data.html) function to download the data."
      ],
      "metadata": {
        "id": "lV-jlCEX2Qxn"
      }
    },
    {
      "cell_type": "code",
      "source": [
        "from pysteps.datasets import download_pysteps_data\n",
        "\n",
        "download_pysteps_data(\"pysteps_data\")"
      ],
      "metadata": {
        "id": "fVcB_k_HxP7Z",
        "colab": {
          "base_uri": "https://localhost:8080/"
        },
        "outputId": "d5d10fca-d8a2-47a8-d900-70fef63c3d76"
      },
      "execution_count": null,
      "outputs": [
        {
          "output_type": "stream",
          "name": "stdout",
          "text": [
            "Downloading pysteps-data from github.\n",
            "Progress: (267.9 Mb) - Time left: unknown\n",
            "Download complete\n",
            "\n"
          ]
        }
      ]
    },
    {
      "cell_type": "markdown",
      "source": [
        "## Create the pystepsrc file\n",
        "\n",
        "A pystepsrc file needs to be created for locating the datasets. To create this file, we will use the [pysteps.datasets.create_default_pystepsrc()](https://pysteps.readthedocs.io/en/latest/generated/pysteps.datasets.create_default_pystepsrc.html#pysteps.datasets.create_default_pystepsrc) helper function and load the configuration file by using [pysteps.load_config_file](https://pysteps.readthedocs.io/en/stable/generated/pysteps.load_config_file.html)."
      ],
      "metadata": {
        "id": "5O-rQDmyFVvX"
      }
    },
    {
      "cell_type": "code",
      "source": [
        "import pysteps\n",
        "from pysteps.datasets import create_default_pystepsrc\n",
        "\n",
        "config_file_path = create_default_pystepsrc(\"pysteps_data\")\n",
        "_ = pysteps.load_config_file(config_file_path, verbose=True)"
      ],
      "metadata": {
        "colab": {
          "base_uri": "https://localhost:8080/"
        },
        "id": "7ZgbhuycxbSa",
        "outputId": "c24fc088-2059-465b-ad9d-bce06679a41a"
      },
      "execution_count": null,
      "outputs": [
        {
          "output_type": "stream",
          "name": "stdout",
          "text": [
            "Pysteps configuration file found at: /root/.pysteps/pystepsrc\n",
            "\n"
          ]
        }
      ]
    },
    {
      "cell_type": "markdown",
      "source": [
        "## Load the example dataset\n",
        "\n",
        "Now that we have installed the example data, let's import the example MeteoSwiss dataset using the [load_dataset()](https://pysteps.readthedocs.io/en/latest/generated/pysteps.datasets.load_dataset.html) helper function from the `pysteps.datasets` module. The dataset contains radar-derived rain rates from Switzerland."
      ],
      "metadata": {
        "id": "NQxuHiFnGjKg"
      }
    },
    {
      "cell_type": "code",
      "source": [
        "from pysteps.datasets import load_dataset\n",
        "precip, metadata, timestep = load_dataset('mch')"
      ],
      "metadata": {
        "id": "xowuxAOhxqyP"
      },
      "execution_count": null,
      "outputs": []
    },
    {
      "cell_type": "markdown",
      "source": [
        "Then we can print the metadata using [pprint](https://docs.python.org/3/library/pprint.html)."
      ],
      "metadata": {
        "id": "AzaYmeVmJj_j"
      }
    },
    {
      "cell_type": "code",
      "source": [
        "from pprint import pprint\n",
        "pprint(metadata)"
      ],
      "metadata": {
        "colab": {
          "base_uri": "https://localhost:8080/"
        },
        "id": "e0E_0uMKJhq8",
        "outputId": "167e04a7-fbe1-4f83-fb5b-2ac0f10535e1"
      },
      "execution_count": null,
      "outputs": [
        {
          "output_type": "stream",
          "name": "stdout",
          "text": [
            "{'accutime': 5,\n",
            " 'cartesian_unit': 'm',\n",
            " 'institution': 'MeteoSwiss',\n",
            " 'product': 'AQC',\n",
            " 'projection': '+proj=somerc  +lon_0=7.43958333333333 +lat_0=46.9524055555556 '\n",
            "               '+k_0=1 +x_0=600000 +y_0=200000 +ellps=bessel '\n",
            "               '+towgs84=674.374,15.056,405.346,0,0,0,0 +units=m +no_defs',\n",
            " 'threshold': 0.009909609120596347,\n",
            " 'timestamps': array([datetime.datetime(2015, 5, 15, 15, 45),\n",
            "       datetime.datetime(2015, 5, 15, 15, 50),\n",
            "       datetime.datetime(2015, 5, 15, 15, 55),\n",
            "       datetime.datetime(2015, 5, 15, 16, 0),\n",
            "       datetime.datetime(2015, 5, 15, 16, 5),\n",
            "       datetime.datetime(2015, 5, 15, 16, 10),\n",
            "       datetime.datetime(2015, 5, 15, 16, 15),\n",
            "       datetime.datetime(2015, 5, 15, 16, 20),\n",
            "       datetime.datetime(2015, 5, 15, 16, 25),\n",
            "       datetime.datetime(2015, 5, 15, 16, 30),\n",
            "       datetime.datetime(2015, 5, 15, 16, 35),\n",
            "       datetime.datetime(2015, 5, 15, 16, 40),\n",
            "       datetime.datetime(2015, 5, 15, 16, 45),\n",
            "       datetime.datetime(2015, 5, 15, 16, 50)], dtype=object),\n",
            " 'transform': None,\n",
            " 'unit': 'mm/h',\n",
            " 'x1': 255000.0,\n",
            " 'x2': 965000.0,\n",
            " 'xpixelsize': 1000.0,\n",
            " 'y1': -160000.0,\n",
            " 'y2': 480000.0,\n",
            " 'yorigin': 'upper',\n",
            " 'ypixelsize': 1000.0,\n",
            " 'zerovalue': 0.0,\n",
            " 'zr_a': 316.0,\n",
            " 'zr_b': 1.5}\n"
          ]
        }
      ]
    },
    {
      "cell_type": "markdown",
      "source": [
        "This should have printed the following key-value pairs:\n",
        "\n",
        "*   `accutime`: accumulation time (minutes) for computing the quantity contained in the data\n",
        "*   `cartesian_unit`: the distance unit of the geographical coordinates\n",
        "*   `institution`: institution providing the data\n",
        "*   `product`: name of the product\n",
        "*   `projection`: PROJ-compatible projection definition\n",
        "*   `threshold`: the minimum observed value\n",
        "*   `timestamps`: list of timestamps, one for each element in the returned data array\n",
        "*   `transform`: applied transformation to the data values (if any)\n",
        "*   `unit`: the unit of the data\n",
        "*   `x1`: x-coordinate of the lower-left corner of the domain in geographical coordinates\n",
        "*   `x2`: x-coordinate of the upper-right corner of the domain in geographical coordinates\n",
        "*   `xpixelsize`: pixel size in x-direction (meters)\n",
        "*   `y1`: y-coordinate of the lower-left corner of the domain in geographical coordinates\n",
        "*   `y2`: y-coordinate of the upper-right corner of the domain in geographical coordinates\n",
        "*   `yorigin`: 'upper' or 'lower' depending on whether the origin of the coordinate system is in the lower-left or upper-left corner\n",
        "*   `ypixelsize`: pixel size in y-direction (meters)\n",
        "*   `zerovalue`: value corresponding to no precipitation\n",
        "*   `zr_a`: the a-coefficient in the Z(R) relationship Z=a*R^b applied to the data (if representing rain rate)\n",
        "*   `zr_b`: the b-coefficient in the Z(R) relationship Z=a*R^b applied to the data (if representing rain rate)\n"
      ],
      "metadata": {
        "id": "YczUIHNtJr9u"
      }
    },
    {
      "cell_type": "markdown",
      "source": [
        "## Plot the data"
      ],
      "metadata": {
        "id": "AEYLo2-ZI-O4"
      }
    },
    {
      "cell_type": "markdown",
      "source": [
        "Next we will use the [plot_precip_field](https://pysteps.readthedocs.io/en/stable/generated/pysteps.visualization.precipfields.plot_precip_field.html#pysteps.visualization.precipfields.plot_precip_field) function from the `pysteps.visualization.precipfields` module to plot the data. Here we plot the last element in the time series."
      ],
      "metadata": {
        "id": "FPVJPpVJQ6e8"
      }
    },
    {
      "cell_type": "code",
      "source": [
        "from pysteps.visualization import plot_precip_field\n",
        "plot_precip_field(precip[-1], geodata=metadata, axis=\"off\")"
      ],
      "metadata": {
        "colab": {
          "base_uri": "https://localhost:8080/",
          "height": 270
        },
        "id": "DK3Sm-fq1Z5A",
        "outputId": "55ecd79a-52f4-4bce-ccfb-cfdcd4fae4a1"
      },
      "execution_count": null,
      "outputs": [
        {
          "output_type": "execute_result",
          "data": {
            "text/plain": [
              "<matplotlib.axes._subplots.AxesSubplot at 0x7f95c70e1950>"
            ]
          },
          "metadata": {},
          "execution_count": 24
        },
        {
          "output_type": "display_data",
          "data": {
            "text/plain": [
              "<Figure size 432x288 with 2 Axes>"
            ],
            "image/png": "[encoded data removed]"
          },
          "metadata": {
            "needs_background": "light"
          }
        }
      ]
    },
    {
      "cell_type": "markdown",
      "source": [
        "The other supported colorscales are 'STEPS-BE' and 'BOM-RF3'. They look like this."
      ],
      "metadata": {
        "id": "jmtxhzU7dinu"
      }
    },
    {
      "cell_type": "code",
      "source": [
        "plot_precip_field(precip[-1], geodata=metadata, axis=\"off\", colorscale=\"STEPS-BE\")"
      ],
      "metadata": {
        "colab": {
          "base_uri": "https://localhost:8080/",
          "height": 270
        },
        "id": "0kH31hF8dt17",
        "outputId": "dea85256-bb6f-467b-ff1d-1c3c40d4e3e2"
      },
      "execution_count": null,
      "outputs": [
        {
          "output_type": "execute_result",
          "data": {
            "text/plain": [
              "<matplotlib.axes._subplots.AxesSubplot at 0x7f95c6fbec90>"
            ]
          },
          "metadata": {},
          "execution_count": 25
        },
        {
          "output_type": "display_data",
          "data": {
            "text/plain": [
              "<Figure size 432x288 with 2 Axes>"
            ],
            "image/png": "[encoded data removed]"
          },
          "metadata": {
            "needs_background": "light"
          }
        }
      ]
    },
    {
      "cell_type": "code",
      "source": [
        "plot_precip_field(precip[-1], geodata=metadata, axis=\"off\", colorscale=\"BOM-RF3\")"
      ],
      "metadata": {
        "colab": {
          "base_uri": "https://localhost:8080/",
          "height": 270
        },
        "id": "FsacarJXd0lc",
        "outputId": "8146dea0-ebea-448f-a9d5-df258d329819"
      },
      "execution_count": null,
      "outputs": [
        {
          "output_type": "execute_result",
          "data": {
            "text/plain": [
              "<matplotlib.axes._subplots.AxesSubplot at 0x7f95c6ee3f50>"
            ]
          },
          "metadata": {},
          "execution_count": 26
        },
        {
          "output_type": "display_data",
          "data": {
            "text/plain": [
              "<Figure size 432x288 with 2 Axes>"
            ],
            "image/png": "[encoded data removed]"
          },
          "metadata": {
            "needs_background": "light"
          }
        }
      ]
    },
    {
      "cell_type": "markdown",
      "source": [
        "TODO: show how to plot lon-lat lines, tick labels and basemap"
      ],
      "metadata": {
        "id": "t1u181l7TASV"
      }
    }
  ]
}