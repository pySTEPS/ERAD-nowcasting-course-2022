{
  "nbformat": 4,
  "nbformat_minor": 0,
  "metadata": {
    "colab": {
      "name": "setup.ipynb",
      "provenance": [],
      "collapsed_sections": []
    },
    "kernelspec": {
      "name": "python3",
      "display_name": "Python 3"
    },
    "language_info": {
      "name": "python"
    }
  },
  "cells": [
    {
      "cell_type": "markdown",
      "source": [
        "# Setup Colab environment\n",
        "\n",
        "Here we show how to install pysteps in a Colab environment. To install pysteps locally, you can follow [these instructions](https://pysteps.readthedocs.io/en/latest/user_guide/install_pysteps.html).\n"
      ],
      "metadata": {
        "id": "J_xVcpawBJCY"
      }
    },
    {
      "cell_type": "markdown",
      "source": [
        "The following command will install the latest pysteps version from the Python Package Index (PyPI) using pip. This will also install the minimal dependencies needed to run pysteps."
      ],
      "metadata": {
        "id": "pCNluZLgBMZ1"
      }
    },
    {
      "cell_type": "code",
      "execution_count": null,
      "metadata": {
        "colab": {
          "base_uri": "https://localhost:8080/"
        },
        "id": "icgH5YCbAxhk",
        "outputId": "df3045bd-f5cb-42ee-ba95-5d262b382100"
      },
      "outputs": [
        {
          "output_type": "stream",
          "name": "stdout",
          "text": [
            "Looking in indexes: https://pypi.org/simple, https://us-python.pkg.dev/colab-wheels/public/simple/\n",
            "Collecting pysteps\n",
            "  Downloading pysteps-1.6.3.tar.gz (496 kB)\n",
            "\u001b[K     |████████████████████████████████| 496 kB 4.2 MB/s \n",
            "\u001b[?25h  Installing build dependencies ... \u001b[?25l\u001b[?25hdone\n",
            "  Getting requirements to build wheel ... \u001b[?25l\u001b[?25hdone\n",
            "  Installing backend dependencies ... \u001b[?25l\u001b[?25hdone\n",
            "    Preparing wheel metadata ... \u001b[?25l\u001b[?25hdone\n",
            "Requirement already satisfied: scipy in /usr/local/lib/python3.7/dist-packages (from pysteps) (1.7.3)\n",
            "Requirement already satisfied: jsonschema in /usr/local/lib/python3.7/dist-packages (from pysteps) (4.3.3)\n",
            "Requirement already satisfied: numpy in /usr/local/lib/python3.7/dist-packages (from pysteps) (1.21.6)\n",
            "Requirement already satisfied: matplotlib in /usr/local/lib/python3.7/dist-packages (from pysteps) (3.2.2)\n",
            "Collecting jsmin\n",
            "  Using cached jsmin-3.0.1-py3-none-any.whl\n",
            "Requirement already satisfied: importlib-metadata in /usr/local/lib/python3.7/dist-packages (from jsonschema->pysteps) (4.12.0)\n",
            "Requirement already satisfied: typing-extensions in /usr/local/lib/python3.7/dist-packages (from jsonschema->pysteps) (4.1.1)\n",
            "Requirement already satisfied: pyrsistent!=0.17.0,!=0.17.1,!=0.17.2,>=0.14.0 in /usr/local/lib/python3.7/dist-packages (from jsonschema->pysteps) (0.18.1)\n",
            "Requirement already satisfied: attrs>=17.4.0 in /usr/local/lib/python3.7/dist-packages (from jsonschema->pysteps) (21.4.0)\n",
            "Requirement already satisfied: importlib-resources>=1.4.0 in /usr/local/lib/python3.7/dist-packages (from jsonschema->pysteps) (5.9.0)\n",
            "Requirement already satisfied: zipp>=3.1.0 in /usr/local/lib/python3.7/dist-packages (from importlib-resources>=1.4.0->jsonschema->pysteps) (3.8.1)\n",
            "Requirement already satisfied: python-dateutil>=2.1 in /usr/local/lib/python3.7/dist-packages (from matplotlib->pysteps) (2.8.2)\n",
            "Requirement already satisfied: cycler>=0.10 in /usr/local/lib/python3.7/dist-packages (from matplotlib->pysteps) (0.11.0)\n",
            "Requirement already satisfied: pyparsing!=2.0.4,!=2.1.2,!=2.1.6,>=2.0.1 in /usr/local/lib/python3.7/dist-packages (from matplotlib->pysteps) (3.0.9)\n",
            "Requirement already satisfied: kiwisolver>=1.0.1 in /usr/local/lib/python3.7/dist-packages (from matplotlib->pysteps) (1.4.4)\n",
            "Requirement already satisfied: six>=1.5 in /usr/local/lib/python3.7/dist-packages (from python-dateutil>=2.1->matplotlib->pysteps) (1.15.0)\n",
            "Building wheels for collected packages: pysteps\n",
            "  Building wheel for pysteps (PEP 517) ... \u001b[?25l\u001b[?25hdone\n",
            "  Created wheel for pysteps: filename=pysteps-1.6.3-cp37-cp37m-linux_x86_64.whl size=1082042 sha256=5707b32725c6f66e923718fffea3c0e84d039dbeaee3211e754f60cc1853bd01\n",
            "  Stored in directory: /root/.cache/pip/wheels/16/4a/cc/18934087b86dee897a58fad9f847a223a52a15fac94a934b90\n",
            "Successfully built pysteps\n",
            "Installing collected packages: jsmin, pysteps\n",
            "Successfully installed jsmin-3.0.1 pysteps-1.6.3\n"
          ]
        }
      ],
      "source": [
        "!pip install pysteps"
      ]
    },
    {
      "cell_type": "markdown",
      "source": [
        "Alternatively, the following command will install the latest pysteps development version from GitHub."
      ],
      "metadata": {
        "id": "5KZdo7NgCLUd"
      }
    },
    {
      "cell_type": "code",
      "source": [
        "! pip install git+https://github.com/pySTEPS/pysteps"
      ],
      "metadata": {
        "colab": {
          "base_uri": "https://localhost:8080/"
        },
        "id": "e0-GJJzPCbh7",
        "outputId": "f1986c63-1d9b-475d-dd80-377b5177fba9"
      },
      "execution_count": null,
      "outputs": [
        {
          "output_type": "stream",
          "name": "stdout",
          "text": [
            "Looking in indexes: https://pypi.org/simple, https://us-python.pkg.dev/colab-wheels/public/simple/\n",
            "Collecting git+https://github.com/pySTEPS/pysteps\n",
            "  Cloning https://github.com/pySTEPS/pysteps to /tmp/pip-req-build-v5ex96q3\n",
            "  Running command git clone -q https://github.com/pySTEPS/pysteps /tmp/pip-req-build-v5ex96q3\n",
            "  Installing build dependencies ... \u001b[?25l\u001b[?25hdone\n",
            "  Getting requirements to build wheel ... \u001b[?25l\u001b[?25hdone\n",
            "  Installing backend dependencies ... \u001b[?25l\u001b[?25hdone\n",
            "    Preparing wheel metadata ... \u001b[?25l\u001b[?25hdone\n",
            "Requirement already satisfied: jsonschema in /usr/local/lib/python3.7/dist-packages (from pysteps==1.7.0) (4.3.3)\n",
            "Requirement already satisfied: jsmin in /usr/local/lib/python3.7/dist-packages (from pysteps==1.7.0) (3.0.1)\n",
            "Requirement already satisfied: scipy in /usr/local/lib/python3.7/dist-packages (from pysteps==1.7.0) (1.7.3)\n",
            "Requirement already satisfied: matplotlib in /usr/local/lib/python3.7/dist-packages (from pysteps==1.7.0) (3.2.2)\n",
            "Requirement already satisfied: numpy in /usr/local/lib/python3.7/dist-packages (from pysteps==1.7.0) (1.21.6)\n",
            "Requirement already satisfied: attrs>=17.4.0 in /usr/local/lib/python3.7/dist-packages (from jsonschema->pysteps==1.7.0) (21.4.0)\n",
            "Requirement already satisfied: importlib-resources>=1.4.0 in /usr/local/lib/python3.7/dist-packages (from jsonschema->pysteps==1.7.0) (5.9.0)\n",
            "Requirement already satisfied: pyrsistent!=0.17.0,!=0.17.1,!=0.17.2,>=0.14.0 in /usr/local/lib/python3.7/dist-packages (from jsonschema->pysteps==1.7.0) (0.18.1)\n",
            "Requirement already satisfied: importlib-metadata in /usr/local/lib/python3.7/dist-packages (from jsonschema->pysteps==1.7.0) (4.12.0)\n",
            "Requirement already satisfied: typing-extensions in /usr/local/lib/python3.7/dist-packages (from jsonschema->pysteps==1.7.0) (4.1.1)\n",
            "Requirement already satisfied: zipp>=3.1.0 in /usr/local/lib/python3.7/dist-packages (from importlib-resources>=1.4.0->jsonschema->pysteps==1.7.0) (3.8.1)\n",
            "Requirement already satisfied: cycler>=0.10 in /usr/local/lib/python3.7/dist-packages (from matplotlib->pysteps==1.7.0) (0.11.0)\n",
            "Requirement already satisfied: python-dateutil>=2.1 in /usr/local/lib/python3.7/dist-packages (from matplotlib->pysteps==1.7.0) (2.8.2)\n",
            "Requirement already satisfied: kiwisolver>=1.0.1 in /usr/local/lib/python3.7/dist-packages (from matplotlib->pysteps==1.7.0) (1.4.4)\n",
            "Requirement already satisfied: pyparsing!=2.0.4,!=2.1.2,!=2.1.6,>=2.0.1 in /usr/local/lib/python3.7/dist-packages (from matplotlib->pysteps==1.7.0) (3.0.9)\n",
            "Requirement already satisfied: six>=1.5 in /usr/local/lib/python3.7/dist-packages (from python-dateutil>=2.1->matplotlib->pysteps==1.7.0) (1.15.0)\n",
            "Building wheels for collected packages: pysteps\n",
            "  Building wheel for pysteps (PEP 517) ... \u001b[?25l\u001b[?25hdone\n",
            "  Created wheel for pysteps: filename=pysteps-1.7.0-cp37-cp37m-linux_x86_64.whl size=1084353 sha256=06e19c6058d33a981b76e721fd979ba097d62439054d397b2e1c20d980999d90\n",
            "  Stored in directory: /tmp/pip-ephem-wheel-cache-80gkq8ux/wheels/d5/d4/7a/a869ae35592de31860348dbbd52fa99ee22ec23546bfcc770f\n",
            "Successfully built pysteps\n",
            "Installing collected packages: pysteps\n",
            "  Attempting uninstall: pysteps\n",
            "    Found existing installation: pysteps 1.6.3\n",
            "    Uninstalling pysteps-1.6.3:\n",
            "      Successfully uninstalled pysteps-1.6.3\n",
            "Successfully installed pysteps-1.7.0\n"
          ]
        }
      ]
    },
    {
      "cell_type": "markdown",
      "source": [
        "# Download the example data and prepare the configuration\n",
        "\n",
        "The steps needed for downloading the pysteps example data and setting up the initial configuration in Colab are shown below."
      ],
      "metadata": {
        "id": "AP1vLmT2EraY"
      }
    },
    {
      "cell_type": "markdown",
      "source": [
        "## Download the data\n",
        "\n",
        "We use the [pysteps.datasets.download_pysteps_data()](https://pysteps.readthedocs.io/en/latest/generated/pysteps.datasets.download_pysteps_data.html) function to download the data from the [GitHub repository](https://github.com/pySTEPS/pysteps-data)."
      ],
      "metadata": {
        "id": "lV-jlCEX2Qxn"
      }
    },
    {
      "cell_type": "code",
      "source": [
        "from pysteps.datasets import download_pysteps_data\n",
        "\n",
        "download_pysteps_data(\"pysteps_data\")"
      ],
      "metadata": {
        "id": "fVcB_k_HxP7Z",
        "colab": {
          "base_uri": "https://localhost:8080/"
        },
        "outputId": "d5d10fca-d8a2-47a8-d900-70fef63c3d76"
      },
      "execution_count": null,
      "outputs": [
        {
          "output_type": "stream",
          "name": "stdout",
          "text": [
            "Downloading pysteps-data from github.\n",
            "Progress: (267.9 Mb) - Time left: unknown\n",
            "Download complete\n",
            "\n"
          ]
        }
      ]
    },
    {
      "cell_type": "markdown",
      "source": [
        "## Create the pystepsrc file and load configuration\n",
        "\n",
        "A pystepsrc file needs to be created to make the example datasets accessible to pysteps. To create this file, we will use the [pysteps.datasets.create_default_pystepsrc()](https://pysteps.readthedocs.io/en/latest/generated/pysteps.datasets.create_default_pystepsrc.html#pysteps.datasets.create_default_pystepsrc) helper function and load the configuration file by using [pysteps.load_config_file](https://pysteps.readthedocs.io/en/stable/generated/pysteps.load_config_file.html)."
      ],
      "metadata": {
        "id": "5O-rQDmyFVvX"
      }
    },
    {
      "cell_type": "code",
      "source": [
        "from pysteps.datasets import create_default_pystepsrc\n",
        "config_file_path = create_default_pystepsrc(\"pysteps_data\")"
      ],
      "metadata": {
        "id": "7ZgbhuycxbSa"
      },
      "execution_count": null,
      "outputs": []
    },
    {
      "cell_type": "markdown",
      "source": [
        "When installing pysteps locally, see [the documentation](https://pysteps.readthedocs.io/en/stable/user_guide/set_pystepsrc.html) for additional instructions about the pystepsrc file."
      ],
      "metadata": {
        "id": "zvIciPLBIkeY"
      }
    },
    {
      "cell_type": "markdown",
      "source": [
        "Since pysteps was already installed in this notebook, we need to load the new configuration file and update the default configuration."
      ],
      "metadata": {
        "id": "hO77GLpkIB6M"
      }
    },
    {
      "cell_type": "code",
      "source": [
        "import pysteps\n",
        "_ = pysteps.load_config_file(config_file_path, verbose=True)"
      ],
      "metadata": {
        "colab": {
          "base_uri": "https://localhost:8080/"
        },
        "id": "eCA7Cf7dIGle",
        "outputId": "f1ad8503-f189-4810-8196-da88f44c4082"
      },
      "execution_count": null,
      "outputs": [
        {
          "output_type": "stream",
          "name": "stdout",
          "text": [
            "Pysteps configuration file found at: /root/.pysteps/pystepsrc\n",
            "\n"
          ]
        }
      ]
    }
  ]
}