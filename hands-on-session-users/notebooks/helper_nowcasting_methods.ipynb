{
  "nbformat": 4,
  "nbformat_minor": 0,
  "metadata": {
    "colab": {
      "name": "helper_nowcasting_methods.ipynb",
      "provenance": [],
      "collapsed_sections": []
    },
    "kernelspec": {
      "name": "python3",
      "display_name": "Python 3"
    },
    "language_info": {
      "name": "python"
    }
  },
  "cells": [
    {
      "cell_type": "markdown",
      "metadata": {
        "id": "view-in-github"
      },
      "source": [
        "<a href=\"https://colab.research.google.com/github/pySTEPS/ERAD-nowcasting-course-2022/blob/hands-on-users/hands-on-session-users/notebooks/helper_input_data.ipynb\" target=\"_parent\"><img src=\"https://colab.research.google.com/assets/colab-badge.svg\" alt=\"Open In Colab\"/></a>"
      ]
    },
    {
      "cell_type": "markdown",
      "source": [
        "This notebook is for reading and processing the data needed for deterministic and probabilistic nowcasting notebooks in this folder."
      ],
      "metadata": {
        "id": "wU4f8GK8NKCp"
      }
    },
    {
      "cell_type": "code",
      "execution_count": null,
      "metadata": {
        "id": "iXY_wgPMyMKu",
        "outputId": "af377e24-f928-430b-8ee4-40c7b686fe47",
        "colab": {
          "base_uri": "https://localhost:8080/"
        }
      },
      "outputs": [
        {
          "output_type": "stream",
          "name": "stdout",
          "text": [
            "Mounted at mnt\n",
            "/content/mnt/MyDrive/Colab Notebooks\n",
            "/content/mnt/MyDrive/Colab Notebooks\n",
            "Looking in indexes: https://pypi.org/simple, https://us-python.pkg.dev/colab-wheels/public/simple/\n",
            "Collecting pyproj\n",
            "  Downloading pyproj-3.2.1-cp37-cp37m-manylinux2010_x86_64.whl (6.3 MB)\n",
            "\u001b[K     |████████████████████████████████| 6.3 MB 5.2 MB/s \n",
            "\u001b[?25hRequirement already satisfied: certifi in /usr/local/lib/python3.7/dist-packages (from pyproj) (2022.6.15)\n",
            "Installing collected packages: pyproj\n",
            "Successfully installed pyproj-3.2.1\n",
            "Found existing installation: Shapely 1.8.2\n",
            "Uninstalling Shapely-1.8.2:\n",
            "  Successfully uninstalled Shapely-1.8.2\n",
            "Looking in indexes: https://pypi.org/simple, https://us-python.pkg.dev/colab-wheels/public/simple/\n",
            "Collecting shapely\n",
            "  Downloading Shapely-1.8.4.tar.gz (199 kB)\n",
            "\u001b[K     |████████████████████████████████| 199 kB 5.9 MB/s \n",
            "\u001b[?25h  Installing build dependencies ... \u001b[?25l\u001b[?25hdone\n",
            "\u001b[33m  WARNING: Missing build requirements in pyproject.toml for shapely from https://files.pythonhosted.org/packages/b5/9a/625d4fc91ef85873801a16700840786117df4c016162a4532c998a7fe6bc/Shapely-1.8.4.tar.gz#sha256=a195e51caafa218291f2cbaa3fef69fd3353c93ec4b65b2a4722c4cf40c3198c.\u001b[0m\n",
            "\u001b[33m  WARNING: The project does not specify a build backend, and pip cannot fall back to setuptools without 'wheel'.\u001b[0m\n",
            "  Getting requirements to build wheel ... \u001b[?25l\u001b[?25hdone\n",
            "  Installing backend dependencies ... \u001b[?25l\u001b[?25hdone\n",
            "    Preparing wheel metadata ... \u001b[?25l\u001b[?25hdone\n",
            "Building wheels for collected packages: shapely\n",
            "  Building wheel for shapely (PEP 517) ... \u001b[?25l\u001b[?25hdone\n",
            "  Created wheel for shapely: filename=Shapely-1.8.4-cp37-cp37m-linux_x86_64.whl size=669441 sha256=4fd347bfa086c019f81fdcefc2a5ba5552a8e2ded21012e193861547a4dedc36\n",
            "  Stored in directory: /root/.cache/pip/wheels/0b/f0/55/139a0ab07fbf91378f9b7062842aee4d4bb3566a1fc30ac7a4\n",
            "Successfully built shapely\n",
            "Installing collected packages: shapely\n",
            "Successfully installed shapely-1.8.4\n",
            "Looking in indexes: https://pypi.org/simple, https://us-python.pkg.dev/colab-wheels/public/simple/\n",
            "Collecting cartopy\n",
            "  Downloading Cartopy-0.20.3.tar.gz (10.8 MB)\n",
            "\u001b[K     |████████████████████████████████| 10.8 MB 5.2 MB/s \n",
            "\u001b[?25h  Installing build dependencies ... \u001b[?25l\u001b[?25hdone\n",
            "  Getting requirements to build wheel ... \u001b[?25l\u001b[?25herror\n",
            "\u001b[33mWARNING: Discarding https://files.pythonhosted.org/packages/98/a9/0e4000eabadfcff6373c0fec790863b543b919cbfec18aed60d71ba67d5d/Cartopy-0.20.3.tar.gz#sha256=0d60fa2e2fbd77c4d1f6b1f9d3b588966147f07c1b179d2d34570ac1e1b49006 (from https://pypi.org/simple/cartopy/) (requires-python:>=3.7). Command errored out with exit status 1: /usr/bin/python3 /usr/local/lib/python3.7/dist-packages/pip/_vendor/pep517/in_process/_in_process.py get_requires_for_build_wheel /tmp/tmpzxeyakl4 Check the logs for full command output.\u001b[0m\n",
            "  Downloading Cartopy-0.20.2.tar.gz (10.8 MB)\n",
            "\u001b[K     |████████████████████████████████| 10.8 MB 31.1 MB/s \n",
            "\u001b[?25h  Installing build dependencies ... \u001b[?25l\u001b[?25hdone\n",
            "  Getting requirements to build wheel ... \u001b[?25l\u001b[?25herror\n",
            "\u001b[33mWARNING: Discarding https://files.pythonhosted.org/packages/f6/55/1e1c737dc9436b320deead73d1c455ddbb74b8b6992081863492f6f6378a/Cartopy-0.20.2.tar.gz#sha256=4d08c198ecaa50a6a6b109d0f14c070e813defc046a83ac5d7ab494f85599e35 (from https://pypi.org/simple/cartopy/) (requires-python:>=3.7). Command errored out with exit status 1: /usr/bin/python3 /usr/local/lib/python3.7/dist-packages/pip/_vendor/pep517/in_process/_in_process.py get_requires_for_build_wheel /tmp/tmph9lv2aud Check the logs for full command output.\u001b[0m\n",
            "  Downloading Cartopy-0.20.1.tar.gz (10.8 MB)\n",
            "\u001b[K     |████████████████████████████████| 10.8 MB 29.6 MB/s \n",
            "\u001b[?25h  Installing build dependencies ... \u001b[?25l\u001b[?25hdone\n",
            "  Getting requirements to build wheel ... \u001b[?25l\u001b[?25herror\n",
            "\u001b[33mWARNING: Discarding https://files.pythonhosted.org/packages/fc/59/aa52698e3838f4cd0e7eaa75bd86837e9e0b05041dbdaee3cda2fffced06/Cartopy-0.20.1.tar.gz#sha256=91f87b130e2574547a20cd634498df97d797abd12dcfd0235bc0cdbcec8b05e3 (from https://pypi.org/simple/cartopy/) (requires-python:>=3.7). Command errored out with exit status 1: /usr/bin/python3 /usr/local/lib/python3.7/dist-packages/pip/_vendor/pep517/in_process/_in_process.py get_requires_for_build_wheel /tmp/tmp8yowwgqw Check the logs for full command output.\u001b[0m\n",
            "  Downloading Cartopy-0.20.0.tar.gz (10.8 MB)\n",
            "\u001b[K     |████████████████████████████████| 10.8 MB 28.0 MB/s \n",
            "\u001b[?25h  Installing build dependencies ... \u001b[?25l\u001b[?25hdone\n",
            "  Getting requirements to build wheel ... \u001b[?25l\u001b[?25herror\n",
            "\u001b[33mWARNING: Discarding https://files.pythonhosted.org/packages/0f/c0/58453b036e79046d211f083880d58dcce787e7e07647ac25dc46c6555099/Cartopy-0.20.0.tar.gz#sha256=eae58aff26806e63cf115b2bce9477cedc4aa9f578c5e477b2c25cfa404f2b7a (from https://pypi.org/simple/cartopy/) (requires-python:>=3.7). Command errored out with exit status 1: /usr/bin/python3 /usr/local/lib/python3.7/dist-packages/pip/_vendor/pep517/in_process/_in_process.py get_requires_for_build_wheel /tmp/tmp2rm8auaf Check the logs for full command output.\u001b[0m\n",
            "  Downloading Cartopy-0.19.0.post1.tar.gz (12.1 MB)\n",
            "\u001b[K     |████████████████████████████████| 12.1 MB 34.0 MB/s \n",
            "\u001b[?25h  Installing build dependencies ... \u001b[?25l\u001b[?25hdone\n",
            "  Getting requirements to build wheel ... \u001b[?25l\u001b[?25hdone\n",
            "    Preparing wheel metadata ... \u001b[?25l\u001b[?25hdone\n",
            "Collecting pyshp>=2\n",
            "  Downloading pyshp-2.3.1-py2.py3-none-any.whl (46 kB)\n",
            "\u001b[K     |████████████████████████████████| 46 kB 4.0 MB/s \n",
            "\u001b[?25hRequirement already satisfied: numpy>=1.13.3 in /usr/local/lib/python3.7/dist-packages (from cartopy) (1.21.6)\n",
            "Requirement already satisfied: shapely>=1.5.6 in /usr/local/lib/python3.7/dist-packages (from cartopy) (1.8.4)\n",
            "Building wheels for collected packages: cartopy\n",
            "  Building wheel for cartopy (PEP 517) ... \u001b[?25l\u001b[?25hdone\n",
            "  Created wheel for cartopy: filename=Cartopy-0.19.0.post1-cp37-cp37m-linux_x86_64.whl size=12516294 sha256=74639091c63eaae7abc585c8aab8d5bc68fd3ac6a1472d815b1be932ad5f6279\n",
            "  Stored in directory: /root/.cache/pip/wheels/98/01/f7/bd10aeb96fe4b518cde5f7c4f5e12c7202f85b7353a5017847\n",
            "Successfully built cartopy\n",
            "Installing collected packages: pyshp, cartopy\n",
            "Successfully installed cartopy-0.19.0.post1 pyshp-2.3.1\n",
            "Looking in indexes: https://pypi.org/simple, https://us-python.pkg.dev/colab-wheels/public/simple/\n",
            "Collecting git+https://github.com/pySTEPS/pysteps@erad2022_short_course_fixes\n",
            "  Cloning https://github.com/pySTEPS/pysteps (to revision erad2022_short_course_fixes) to /tmp/pip-req-build-wcfyqms6\n",
            "  Running command git clone -q https://github.com/pySTEPS/pysteps /tmp/pip-req-build-wcfyqms6\n",
            "  Running command git checkout -b erad2022_short_course_fixes --track origin/erad2022_short_course_fixes\n",
            "  Switched to a new branch 'erad2022_short_course_fixes'\n",
            "  Branch 'erad2022_short_course_fixes' set up to track remote branch 'erad2022_short_course_fixes' from 'origin'.\n",
            "  Installing build dependencies ... \u001b[?25l\u001b[?25hdone\n",
            "  Getting requirements to build wheel ... \u001b[?25l\u001b[?25hdone\n",
            "  Installing backend dependencies ... \u001b[?25l\u001b[?25hdone\n",
            "    Preparing wheel metadata ... \u001b[?25l\u001b[?25hdone\n",
            "Collecting jsmin\n",
            "  Using cached jsmin-3.0.1-py3-none-any.whl\n",
            "Requirement already satisfied: matplotlib in /usr/local/lib/python3.7/dist-packages (from pysteps==1.7.0) (3.2.2)\n",
            "Requirement already satisfied: numpy in /usr/local/lib/python3.7/dist-packages (from pysteps==1.7.0) (1.21.6)\n",
            "Requirement already satisfied: scipy in /usr/local/lib/python3.7/dist-packages (from pysteps==1.7.0) (1.7.3)\n",
            "Requirement already satisfied: jsonschema in /usr/local/lib/python3.7/dist-packages (from pysteps==1.7.0) (4.3.3)\n",
            "Requirement already satisfied: pyrsistent!=0.17.0,!=0.17.1,!=0.17.2,>=0.14.0 in /usr/local/lib/python3.7/dist-packages (from jsonschema->pysteps==1.7.0) (0.18.1)\n",
            "Requirement already satisfied: attrs>=17.4.0 in /usr/local/lib/python3.7/dist-packages (from jsonschema->pysteps==1.7.0) (22.1.0)\n",
            "Requirement already satisfied: importlib-resources>=1.4.0 in /usr/local/lib/python3.7/dist-packages (from jsonschema->pysteps==1.7.0) (5.9.0)\n",
            "Requirement already satisfied: typing-extensions in /usr/local/lib/python3.7/dist-packages (from jsonschema->pysteps==1.7.0) (4.1.1)\n",
            "Requirement already satisfied: importlib-metadata in /usr/local/lib/python3.7/dist-packages (from jsonschema->pysteps==1.7.0) (4.12.0)\n",
            "Requirement already satisfied: zipp>=3.1.0 in /usr/local/lib/python3.7/dist-packages (from importlib-resources>=1.4.0->jsonschema->pysteps==1.7.0) (3.8.1)\n",
            "Requirement already satisfied: python-dateutil>=2.1 in /usr/local/lib/python3.7/dist-packages (from matplotlib->pysteps==1.7.0) (2.8.2)\n",
            "Requirement already satisfied: pyparsing!=2.0.4,!=2.1.2,!=2.1.6,>=2.0.1 in /usr/local/lib/python3.7/dist-packages (from matplotlib->pysteps==1.7.0) (3.0.9)\n",
            "Requirement already satisfied: kiwisolver>=1.0.1 in /usr/local/lib/python3.7/dist-packages (from matplotlib->pysteps==1.7.0) (1.4.4)\n",
            "Requirement already satisfied: cycler>=0.10 in /usr/local/lib/python3.7/dist-packages (from matplotlib->pysteps==1.7.0) (0.11.0)\n",
            "Requirement already satisfied: six>=1.5 in /usr/local/lib/python3.7/dist-packages (from python-dateutil>=2.1->matplotlib->pysteps==1.7.0) (1.15.0)\n",
            "Building wheels for collected packages: pysteps\n",
            "  Building wheel for pysteps (PEP 517) ... \u001b[?25l\u001b[?25hdone\n",
            "  Created wheel for pysteps: filename=pysteps-1.7.0-cp37-cp37m-linux_x86_64.whl size=1088769 sha256=34434e44ddf767f26258765c3e29c5b6ac33126e9e959b23251dde3cd23dbfee\n",
            "  Stored in directory: /tmp/pip-ephem-wheel-cache-5j5hlcj7/wheels/90/71/2a/69fd1b528c687c33e5e4f6fc7cfa109ceae5327cdbeceed680\n",
            "Successfully built pysteps\n",
            "Installing collected packages: jsmin, pysteps\n",
            "Successfully installed jsmin-3.0.1 pysteps-1.7.0\n",
            "Pysteps configuration file found at: /usr/local/lib/python3.7/dist-packages/pysteps/pystepsrc\n",
            "\n",
            "Downloading pysteps-data from github.\n",
            "Progress: (267.9 Mb) - Time left: unknown\n",
            "Download complete\n",
            "\n",
            "Pysteps configuration file found at: /root/.pysteps/pystepsrc\n",
            "\n"
          ]
        }
      ],
      "source": [
        "from google.colab import drive\n",
        "import os\n",
        "# mount the Google Drive folder\n",
        "# don't attempt to remount if the drive is already mounted\n",
        "if not os.path.exists(\"/content/mnt/MyDrive\"):\n",
        "  drive.mount(\"mnt\")\n",
        "%cd '/content/mnt/MyDrive/Colab Notebooks'\n",
        "# run the previous notebook to configure the environment\n",
        "%run helper_input_data.ipynb"
      ]
    },
    {
      "cell_type": "markdown",
      "source": [
        "## Pre-processing steps\n",
        "The pre-processing steps for the nowcasting exercise resemble the steps from block 2 and 3, and consist of the following:\n",
        "\n",
        "### Apply data transformations\n",
        "The data from FMI has already been imported after running the [helper_input_data](https://github.com/pySTEPS/ERAD-nowcasting-course-2022/blob/hands-on-users/hands-on-session-users/notebooks/helper_input_data.ipynb) notebook. The precip data is called `precip` and the metadata is called `metadata`."
      ],
      "metadata": {
        "id": "8bt3L16szLEe"
      }
    },
    {
      "cell_type": "code",
      "source": [
        "import numpy as np\n",
        "\n",
        "from pysteps import motion\n",
        "from pysteps.utils import transformation\n",
        "\n",
        "# The precip variable consists of 16 time steps. We will use the first four\n",
        "# to derive the motion field and make a nowcast, and the last twelve frames to\n",
        "# validate the nowcasts (these will be the observations).\n",
        "precip_for_forecast = precip[0:4]\n",
        "precip_obs = precip[4:]\n",
        "\n",
        "# When computing the optical flow, transforming the precipitation rates (mm/h)\n",
        "# to dBR via the logarithmic transform shown in the previous exercise generally\n",
        "# improves the reliability of the estimation.\n",
        "precip_dbr, metadata_dbr = transformation.dB_transform(\n",
        "    precip_for_forecast,\n",
        "    metadata,\n",
        "    threshold=0.1,\n",
        "    zerovalue=-15.0\n",
        ")\n",
        "\n",
        "# Handling of NaN values has been explicitly implemented in Lucas-Kanade and VET,\n",
        "# but not in DARTS. For this reason, we set all non-finite values to the minimum\n",
        "# value before applying the optical flow.\n",
        "precip_finite = precip_dbr.copy()\n",
        "precip_finite[~np.isfinite(precip_finite)] = np.nanmin(precip_dbr)\n",
        "\n",
        "print(\"metadata (dBR transformed) is: \", metadata_dbr)"
      ],
      "metadata": {
        "id": "EbdrncDVCBK8",
        "colab": {
          "base_uri": "https://localhost:8080/"
        },
        "outputId": "9e4bf2e8-b415-4d4b-88a9-7b4a68ade16d"
      },
      "execution_count": null,
      "outputs": [
        {
          "output_type": "stream",
          "name": "stdout",
          "text": [
            "metadata (dBR transformed) is:  {'projection': '+proj=stere  +lon_0=25E +lat_0=90N +lat_ts=60 +a=6371288 +x_0=380886.310 +y_0=3395677.920 +no_defs', 'x1': 0.0049823258887045085, 'y1': 0.009731985162943602, 'x2': 759752.2852757066, 'y2': 1225544.6588913496, 'cartesian_unit': 'm', 'xpixelsize': 1999.348106, 'ypixelsize': 1999.25718, 'yorigin': 'upper', 'institution': 'Finnish Meteorological Institute', 'accutime': 5.0, 'unit': 'mm/h', 'transform': 'dB', 'zerovalue': -15.0, 'threshold': -10.0, 'zr_a': 223.0, 'zr_b': 1.53, 'timestamps': array([datetime.datetime(2016, 9, 28, 14, 45),\n",
            "       datetime.datetime(2016, 9, 28, 14, 50),\n",
            "       datetime.datetime(2016, 9, 28, 14, 55),\n",
            "       datetime.datetime(2016, 9, 28, 15, 0),\n",
            "       datetime.datetime(2016, 9, 28, 15, 5),\n",
            "       datetime.datetime(2016, 9, 28, 15, 10),\n",
            "       datetime.datetime(2016, 9, 28, 15, 15),\n",
            "       datetime.datetime(2016, 9, 28, 15, 20),\n",
            "       datetime.datetime(2016, 9, 28, 15, 25),\n",
            "       datetime.datetime(2016, 9, 28, 15, 30),\n",
            "       datetime.datetime(2016, 9, 28, 15, 35),\n",
            "       datetime.datetime(2016, 9, 28, 15, 40),\n",
            "       datetime.datetime(2016, 9, 28, 15, 45),\n",
            "       datetime.datetime(2016, 9, 28, 15, 50),\n",
            "       datetime.datetime(2016, 9, 28, 15, 55),\n",
            "       datetime.datetime(2016, 9, 28, 16, 0)], dtype=object)}\n"
          ]
        }
      ]
    },
    {
      "cell_type": "markdown",
      "source": [
        "### Determine the motion field\n",
        "Determine the motion field with the Lucas-Kanade method."
      ],
      "metadata": {
        "id": "9vpMBAh70cyK"
      }
    },
    {
      "cell_type": "code",
      "source": [
        "# Set the method\n",
        "method = \"LK\"\n",
        "\n",
        "# Determine the motion field (here, using the four most recent precipitation fields)\n",
        "oflow = motion.get_method(method)\n",
        "motion_field = oflow(precip_finite, verbose=False)"
      ],
      "metadata": {
        "id": "3zTjenNV0tn7"
      },
      "execution_count": null,
      "outputs": []
    }
  ]
}