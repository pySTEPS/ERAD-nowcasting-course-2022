{
  "nbformat": 4,
  "nbformat_minor": 0,
  "metadata": {
    "colab": {
      "name": "block_01_setup.ipynb",
      "provenance": [],
      "collapsed_sections": [],
      "authorship_tag": "ABX9TyMkz4GP2E3kSa0TDSCwOupU",
      "include_colab_link": true
    },
    "kernelspec": {
      "name": "python3",
      "display_name": "Python 3"
    },
    "language_info": {
      "name": "python"
    }
  },
  "cells": [
    {
      "cell_type": "markdown",
      "metadata": {
        "id": "view-in-github",
        "colab_type": "text"
      },
      "source": [
        "<a href=\"https://colab.research.google.com/github/pySTEPS/ERAD-nowcasting-course-2022/blob/hands-on-users/hands-on-session-users/notebooks/block_01_setup.ipynb\" target=\"_parent\"><img src=\"https://colab.research.google.com/assets/colab-badge.svg\" alt=\"Open In Colab\"/></a>"
      ]
    },
    {
      "cell_type": "markdown",
      "source": [
        "# Setup Colab environment\n",
        "\n",
        "Here we show how to install pysteps in a Colab environment. To install pysteps locally, you can follow [these instructions](https://pysteps.readthedocs.io/en/latest/user_guide/install_pysteps.html).\n"
      ],
      "metadata": {
        "id": "J_xVcpawBJCY"
      }
    },
    {
      "cell_type": "markdown",
      "source": [
        "## Install optional dependencies\n",
        "\n",
        "The following optional dependencies will be installed to enable the functionality needed in the notebooks:\n",
        "- pyproj: needed for importing FMI radar composites\n",
        "\n",
        "**NOTE:** These packages need to be installed before pysteps. Otherwise pysteps will not be able to use them.\n",
        "\n",
        "**TODO:** add other dependencies here if needed"
      ],
      "metadata": {
        "id": "ZyInTwR5oL5P"
      }
    },
    {
      "cell_type": "code",
      "source": [
        "!pip install pyproj"
      ],
      "metadata": {
        "colab": {
          "base_uri": "https://localhost:8080/"
        },
        "id": "3Ta7ME1Vpf1J",
        "outputId": "9deb9bb8-e668-4cb5-f8fd-d43e79215ce0"
      },
      "execution_count": 1,
      "outputs": [
        {
          "output_type": "stream",
          "name": "stdout",
          "text": [
            "Looking in indexes: https://pypi.org/simple, https://us-python.pkg.dev/colab-wheels/public/simple/\n",
            "Collecting pyproj\n",
            "  Downloading pyproj-3.2.1-cp37-cp37m-manylinux2010_x86_64.whl (6.3 MB)\n",
            "\u001b[K     |████████████████████████████████| 6.3 MB 4.8 MB/s \n",
            "\u001b[?25hRequirement already satisfied: certifi in /usr/local/lib/python3.7/dist-packages (from pyproj) (2022.6.15)\n",
            "Installing collected packages: pyproj\n",
            "Successfully installed pyproj-3.2.1\n"
          ]
        }
      ]
    },
    {
      "cell_type": "markdown",
      "source": [
        "## Install pysteps\n",
        "\n",
        "The following command will install the latest pysteps version from the Python Package Index (PyPI) using pip. This will also install the minimal dependencies needed to run pysteps."
      ],
      "metadata": {
        "id": "pnEde2mCoRJG"
      }
    },
    {
      "cell_type": "code",
      "execution_count": 2,
      "metadata": {
        "colab": {
          "base_uri": "https://localhost:8080/"
        },
        "id": "icgH5YCbAxhk",
        "outputId": "6c8b136b-cc35-4848-a862-d97fb25284fb"
      },
      "outputs": [
        {
          "output_type": "stream",
          "name": "stdout",
          "text": [
            "Looking in indexes: https://pypi.org/simple, https://us-python.pkg.dev/colab-wheels/public/simple/\n",
            "Collecting pysteps\n",
            "  Downloading pysteps-1.6.3.tar.gz (496 kB)\n",
            "\u001b[K     |████████████████████████████████| 496 kB 5.2 MB/s \n",
            "\u001b[?25h  Installing build dependencies ... \u001b[?25l\u001b[?25hdone\n",
            "  Getting requirements to build wheel ... \u001b[?25l\u001b[?25hdone\n",
            "  Installing backend dependencies ... \u001b[?25l\u001b[?25hdone\n",
            "    Preparing wheel metadata ... \u001b[?25l\u001b[?25hdone\n",
            "Requirement already satisfied: scipy in /usr/local/lib/python3.7/dist-packages (from pysteps) (1.7.3)\n",
            "Requirement already satisfied: matplotlib in /usr/local/lib/python3.7/dist-packages (from pysteps) (3.2.2)\n",
            "Collecting jsmin\n",
            "  Using cached jsmin-3.0.1-py3-none-any.whl\n",
            "Requirement already satisfied: numpy in /usr/local/lib/python3.7/dist-packages (from pysteps) (1.21.6)\n",
            "Requirement already satisfied: jsonschema in /usr/local/lib/python3.7/dist-packages (from pysteps) (4.3.3)\n",
            "Requirement already satisfied: importlib-resources>=1.4.0 in /usr/local/lib/python3.7/dist-packages (from jsonschema->pysteps) (5.9.0)\n",
            "Requirement already satisfied: typing-extensions in /usr/local/lib/python3.7/dist-packages (from jsonschema->pysteps) (4.1.1)\n",
            "Requirement already satisfied: attrs>=17.4.0 in /usr/local/lib/python3.7/dist-packages (from jsonschema->pysteps) (21.4.0)\n",
            "Requirement already satisfied: importlib-metadata in /usr/local/lib/python3.7/dist-packages (from jsonschema->pysteps) (4.12.0)\n",
            "Requirement already satisfied: pyrsistent!=0.17.0,!=0.17.1,!=0.17.2,>=0.14.0 in /usr/local/lib/python3.7/dist-packages (from jsonschema->pysteps) (0.18.1)\n",
            "Requirement already satisfied: zipp>=3.1.0 in /usr/local/lib/python3.7/dist-packages (from importlib-resources>=1.4.0->jsonschema->pysteps) (3.8.1)\n",
            "Requirement already satisfied: cycler>=0.10 in /usr/local/lib/python3.7/dist-packages (from matplotlib->pysteps) (0.11.0)\n",
            "Requirement already satisfied: kiwisolver>=1.0.1 in /usr/local/lib/python3.7/dist-packages (from matplotlib->pysteps) (1.4.4)\n",
            "Requirement already satisfied: pyparsing!=2.0.4,!=2.1.2,!=2.1.6,>=2.0.1 in /usr/local/lib/python3.7/dist-packages (from matplotlib->pysteps) (3.0.9)\n",
            "Requirement already satisfied: python-dateutil>=2.1 in /usr/local/lib/python3.7/dist-packages (from matplotlib->pysteps) (2.8.2)\n",
            "Requirement already satisfied: six>=1.5 in /usr/local/lib/python3.7/dist-packages (from python-dateutil>=2.1->matplotlib->pysteps) (1.15.0)\n",
            "Building wheels for collected packages: pysteps\n",
            "  Building wheel for pysteps (PEP 517) ... \u001b[?25l\u001b[?25hdone\n",
            "  Created wheel for pysteps: filename=pysteps-1.6.3-cp37-cp37m-linux_x86_64.whl size=1082039 sha256=97f0c4def715fef3acb3bf2c85ebc5cae1595e6d505a9f5425dfe09e3eaf16f9\n",
            "  Stored in directory: /root/.cache/pip/wheels/16/4a/cc/18934087b86dee897a58fad9f847a223a52a15fac94a934b90\n",
            "Successfully built pysteps\n",
            "Installing collected packages: jsmin, pysteps\n",
            "Successfully installed jsmin-3.0.1 pysteps-1.6.3\n"
          ]
        }
      ],
      "source": [
        "!pip install pysteps"
      ]
    },
    {
      "cell_type": "markdown",
      "source": [
        "Alternatively, the following command will install the latest pysteps development version from GitHub."
      ],
      "metadata": {
        "id": "5KZdo7NgCLUd"
      }
    },
    {
      "cell_type": "code",
      "source": [
        "! pip install git+https://github.com/pySTEPS/pysteps"
      ],
      "metadata": {
        "colab": {
          "base_uri": "https://localhost:8080/"
        },
        "id": "e0-GJJzPCbh7",
        "outputId": "d5535eeb-f54a-451a-990e-15b160f399da"
      },
      "execution_count": 3,
      "outputs": [
        {
          "output_type": "stream",
          "name": "stdout",
          "text": [
            "Looking in indexes: https://pypi.org/simple, https://us-python.pkg.dev/colab-wheels/public/simple/\n",
            "Collecting git+https://github.com/pySTEPS/pysteps\n",
            "  Cloning https://github.com/pySTEPS/pysteps to /tmp/pip-req-build-56oa1w5d\n",
            "  Running command git clone -q https://github.com/pySTEPS/pysteps /tmp/pip-req-build-56oa1w5d\n",
            "  Installing build dependencies ... \u001b[?25l\u001b[?25hdone\n",
            "  Getting requirements to build wheel ... \u001b[?25l\u001b[?25hdone\n",
            "  Installing backend dependencies ... \u001b[?25l\u001b[?25hdone\n",
            "    Preparing wheel metadata ... \u001b[?25l\u001b[?25hdone\n",
            "Requirement already satisfied: scipy in /usr/local/lib/python3.7/dist-packages (from pysteps==1.7.0) (1.7.3)\n",
            "Requirement already satisfied: jsonschema in /usr/local/lib/python3.7/dist-packages (from pysteps==1.7.0) (4.3.3)\n",
            "Requirement already satisfied: numpy in /usr/local/lib/python3.7/dist-packages (from pysteps==1.7.0) (1.21.6)\n",
            "Requirement already satisfied: jsmin in /usr/local/lib/python3.7/dist-packages (from pysteps==1.7.0) (3.0.1)\n",
            "Requirement already satisfied: matplotlib in /usr/local/lib/python3.7/dist-packages (from pysteps==1.7.0) (3.2.2)\n",
            "Requirement already satisfied: typing-extensions in /usr/local/lib/python3.7/dist-packages (from jsonschema->pysteps==1.7.0) (4.1.1)\n",
            "Requirement already satisfied: pyrsistent!=0.17.0,!=0.17.1,!=0.17.2,>=0.14.0 in /usr/local/lib/python3.7/dist-packages (from jsonschema->pysteps==1.7.0) (0.18.1)\n",
            "Requirement already satisfied: importlib-resources>=1.4.0 in /usr/local/lib/python3.7/dist-packages (from jsonschema->pysteps==1.7.0) (5.9.0)\n",
            "Requirement already satisfied: importlib-metadata in /usr/local/lib/python3.7/dist-packages (from jsonschema->pysteps==1.7.0) (4.12.0)\n",
            "Requirement already satisfied: attrs>=17.4.0 in /usr/local/lib/python3.7/dist-packages (from jsonschema->pysteps==1.7.0) (21.4.0)\n",
            "Requirement already satisfied: zipp>=3.1.0 in /usr/local/lib/python3.7/dist-packages (from importlib-resources>=1.4.0->jsonschema->pysteps==1.7.0) (3.8.1)\n",
            "Requirement already satisfied: pyparsing!=2.0.4,!=2.1.2,!=2.1.6,>=2.0.1 in /usr/local/lib/python3.7/dist-packages (from matplotlib->pysteps==1.7.0) (3.0.9)\n",
            "Requirement already satisfied: cycler>=0.10 in /usr/local/lib/python3.7/dist-packages (from matplotlib->pysteps==1.7.0) (0.11.0)\n",
            "Requirement already satisfied: kiwisolver>=1.0.1 in /usr/local/lib/python3.7/dist-packages (from matplotlib->pysteps==1.7.0) (1.4.4)\n",
            "Requirement already satisfied: python-dateutil>=2.1 in /usr/local/lib/python3.7/dist-packages (from matplotlib->pysteps==1.7.0) (2.8.2)\n",
            "Requirement already satisfied: six>=1.5 in /usr/local/lib/python3.7/dist-packages (from python-dateutil>=2.1->matplotlib->pysteps==1.7.0) (1.15.0)\n",
            "Building wheels for collected packages: pysteps\n",
            "  Building wheel for pysteps (PEP 517) ... \u001b[?25l\u001b[?25hdone\n",
            "  Created wheel for pysteps: filename=pysteps-1.7.0-cp37-cp37m-linux_x86_64.whl size=1084391 sha256=861e3b5a3176785bd773db4481b240faaa4984d0b0430c8bf88ab15a064055fc\n",
            "  Stored in directory: /tmp/pip-ephem-wheel-cache-0ddtht76/wheels/d5/d4/7a/a869ae35592de31860348dbbd52fa99ee22ec23546bfcc770f\n",
            "Successfully built pysteps\n",
            "Installing collected packages: pysteps\n",
            "  Attempting uninstall: pysteps\n",
            "    Found existing installation: pysteps 1.6.3\n",
            "    Uninstalling pysteps-1.6.3:\n",
            "      Successfully uninstalled pysteps-1.6.3\n",
            "Successfully installed pysteps-1.7.0\n"
          ]
        }
      ]
    },
    {
      "cell_type": "markdown",
      "source": [
        "# Download the example data and prepare the configuration\n",
        "\n",
        "The steps needed for downloading the pysteps example data and setting up the initial configuration in Colab are shown below."
      ],
      "metadata": {
        "id": "AP1vLmT2EraY"
      }
    },
    {
      "cell_type": "markdown",
      "source": [
        "## Download the data\n",
        "\n",
        "We use the [pysteps.datasets.download_pysteps_data()](https://pysteps.readthedocs.io/en/latest/generated/pysteps.datasets.download_pysteps_data.html) function to download the data from the [GitHub repository](https://github.com/pySTEPS/pysteps-data)."
      ],
      "metadata": {
        "id": "lV-jlCEX2Qxn"
      }
    },
    {
      "cell_type": "code",
      "source": [
        "from pysteps.datasets import download_pysteps_data\n",
        "download_pysteps_data(\"pysteps_data\")"
      ],
      "metadata": {
        "id": "fVcB_k_HxP7Z",
        "colab": {
          "base_uri": "https://localhost:8080/"
        },
        "outputId": "15aa9e29-8d43-4bcc-f649-e0f16dc5a508"
      },
      "execution_count": 4,
      "outputs": [
        {
          "output_type": "stream",
          "name": "stdout",
          "text": [
            "Pysteps configuration file found at: /usr/local/lib/python3.7/dist-packages/pysteps/pystepsrc\n",
            "\n",
            "Downloading pysteps-data from github.\n",
            "Progress: (267.9 Mb) - Time left: unknown\n",
            "Download complete\n",
            "\n"
          ]
        }
      ]
    },
    {
      "cell_type": "markdown",
      "source": [
        "## Create the pystepsrc file and load configuration\n",
        "\n",
        "A pystepsrc file needs to be created to make the example datasets accessible to pysteps. To create this file, we will use the [pysteps.datasets.create_default_pystepsrc()](https://pysteps.readthedocs.io/en/latest/generated/pysteps.datasets.create_default_pystepsrc.html#pysteps.datasets.create_default_pystepsrc) helper function and load the configuration file by using [pysteps.load_config_file](https://pysteps.readthedocs.io/en/stable/generated/pysteps.load_config_file.html)."
      ],
      "metadata": {
        "id": "5O-rQDmyFVvX"
      }
    },
    {
      "cell_type": "code",
      "source": [
        "from pysteps.datasets import create_default_pystepsrc\n",
        "config_file_path = create_default_pystepsrc(\"pysteps_data\")"
      ],
      "metadata": {
        "id": "7ZgbhuycxbSa"
      },
      "execution_count": 5,
      "outputs": []
    },
    {
      "cell_type": "markdown",
      "source": [
        "When installing pysteps locally, see [the documentation](https://pysteps.readthedocs.io/en/stable/user_guide/set_pystepsrc.html) for additional instructions about the pystepsrc file."
      ],
      "metadata": {
        "id": "zvIciPLBIkeY"
      }
    },
    {
      "cell_type": "markdown",
      "source": [
        "Since pysteps was already installed in this notebook, we need to load the new configuration file and update the default configuration."
      ],
      "metadata": {
        "id": "hO77GLpkIB6M"
      }
    },
    {
      "cell_type": "code",
      "source": [
        "import pysteps\n",
        "_ = pysteps.load_config_file(config_file_path, verbose=True)"
      ],
      "metadata": {
        "colab": {
          "base_uri": "https://localhost:8080/"
        },
        "id": "eCA7Cf7dIGle",
        "outputId": "d203010c-a285-40a3-8284-016bf0c430c0"
      },
      "execution_count": 6,
      "outputs": [
        {
          "output_type": "stream",
          "name": "stdout",
          "text": [
            "Pysteps configuration file found at: /root/.pysteps/pystepsrc\n",
            "\n"
          ]
        }
      ]
    }
  ]
}