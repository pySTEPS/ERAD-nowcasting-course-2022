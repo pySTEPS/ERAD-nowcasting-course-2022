{
  "nbformat": 4,
  "nbformat_minor": 0,
  "metadata": {
    "colab": {
      "name": "block_01_setup.ipynb",
      "provenance": [],
      "collapsed_sections": [],
      "authorship_tag": "ABX9TyNMz+yidPiYtPMzicIgqLOu",
      "include_colab_link": true
    },
    "kernelspec": {
      "name": "python3",
      "display_name": "Python 3"
    },
    "language_info": {
      "name": "python"
    }
  },
  "cells": [
    {
      "cell_type": "markdown",
      "metadata": {
        "id": "view-in-github",
        "colab_type": "text"
      },
      "source": [
        "<a href=\"https://colab.research.google.com/github/pySTEPS/ERAD-nowcasting-course-2022/blob/hands-on-users/hands-on-session-users/notebooks/block_01_setup.ipynb\" target=\"_parent\"><img src=\"https://colab.research.google.com/assets/colab-badge.svg\" alt=\"Open In Colab\"/></a>"
      ]
    },
    {
      "cell_type": "markdown",
      "source": [
        "# Setup Colab environment\n",
        "\n",
        "Here we show how to install pysteps in a Colab environment. To install pysteps locally, you can follow [these instructions](https://pysteps.readthedocs.io/en/latest/user_guide/install_pysteps.html).\n"
      ],
      "metadata": {
        "id": "J_xVcpawBJCY"
      }
    },
    {
      "cell_type": "markdown",
      "source": [
        "## Install optional dependencies\n",
        "\n",
        "The following optional dependencies will be installed to enable the functionality needed in the notebooks:\n",
        "- cartopy: for plotting basemaps\n",
        "- pyproj: for importing FMI radar composites\n",
        "\n",
        "**NOTE:** These packages need to be installed before pysteps. Otherwise pysteps will not be able to use them.\n",
        "\n",
        "**TODO:** add other dependencies here if needed"
      ],
      "metadata": {
        "id": "ZyInTwR5oL5P"
      }
    },
    {
      "cell_type": "code",
      "source": [
        "!pip install pyproj"
      ],
      "metadata": {
        "colab": {
          "base_uri": "https://localhost:8080/"
        },
        "id": "3Ta7ME1Vpf1J",
        "outputId": "a49b593a-d17a-4026-d658-ae576ffe8d0f"
      },
      "execution_count": 1,
      "outputs": [
        {
          "output_type": "stream",
          "name": "stdout",
          "text": [
            "Looking in indexes: https://pypi.org/simple, https://us-python.pkg.dev/colab-wheels/public/simple/\n",
            "Collecting pyproj\n",
            "  Downloading pyproj-3.2.1-cp37-cp37m-manylinux2010_x86_64.whl (6.3 MB)\n",
            "\u001b[K     |████████████████████████████████| 6.3 MB 5.2 MB/s \n",
            "\u001b[?25hRequirement already satisfied: certifi in /usr/local/lib/python3.7/dist-packages (from pyproj) (2022.6.15)\n",
            "Installing collected packages: pyproj\n",
            "Successfully installed pyproj-3.2.1\n"
          ]
        }
      ]
    },
    {
      "cell_type": "markdown",
      "source": [
        "The following additional tricks are needed when installing cartopy in Colab using pip."
      ],
      "metadata": {
        "id": "ViYETOl83rMy"
      }
    },
    {
      "cell_type": "code",
      "source": [
        "!pip uninstall --yes shapely\n",
        "!apt-get install -qq libgdal-dev libgeos-dev\n",
        "!pip install shapely --no-binary shapely\n",
        "!pip install cartopy"
      ],
      "metadata": {
        "colab": {
          "base_uri": "https://localhost:8080/"
        },
        "id": "3H_X8BIu3sFT",
        "outputId": "83e8d7fa-1b47-4c3f-c124-c8830d331de6"
      },
      "execution_count": 2,
      "outputs": [
        {
          "output_type": "stream",
          "name": "stdout",
          "text": [
            "Found existing installation: Shapely 1.8.2\n",
            "Uninstalling Shapely-1.8.2:\n",
            "  Successfully uninstalled Shapely-1.8.2\n",
            "Looking in indexes: https://pypi.org/simple, https://us-python.pkg.dev/colab-wheels/public/simple/\n",
            "Collecting shapely\n",
            "  Downloading Shapely-1.8.2.tar.gz (198 kB)\n",
            "\u001b[K     |████████████████████████████████| 198 kB 4.9 MB/s \n",
            "\u001b[?25h  Installing build dependencies ... \u001b[?25l\u001b[?25hdone\n",
            "  Getting requirements to build wheel ... \u001b[?25l\u001b[?25hdone\n",
            "    Preparing wheel metadata ... \u001b[?25l\u001b[?25hdone\n",
            "Building wheels for collected packages: shapely\n",
            "  Building wheel for shapely (PEP 517) ... \u001b[?25l\u001b[?25hdone\n",
            "  Created wheel for shapely: filename=Shapely-1.8.2-cp37-cp37m-linux_x86_64.whl size=669019 sha256=995e4d0a428469cc98bb9a9c022e2a79099cfc353fe7f44f9c99dfa16aae0519\n",
            "  Stored in directory: /root/.cache/pip/wheels/2f/9e/07/e9e90942b4e31275785d2f7e455607bfe876e53906307f80cd\n",
            "Successfully built shapely\n",
            "Installing collected packages: shapely\n",
            "\u001b[31mERROR: pip's dependency resolver does not currently take into account all the packages that are installed. This behaviour is the source of the following dependency conflicts.\n",
            "albumentations 0.1.12 requires imgaug<0.2.7,>=0.2.5, but you have imgaug 0.2.9 which is incompatible.\u001b[0m\n",
            "Successfully installed shapely-1.8.2\n",
            "Looking in indexes: https://pypi.org/simple, https://us-python.pkg.dev/colab-wheels/public/simple/\n",
            "Collecting cartopy\n",
            "  Downloading Cartopy-0.20.3.tar.gz (10.8 MB)\n",
            "\u001b[K     |████████████████████████████████| 10.8 MB 5.2 MB/s \n",
            "\u001b[?25h  Installing build dependencies ... \u001b[?25l\u001b[?25hdone\n",
            "  Getting requirements to build wheel ... \u001b[?25l\u001b[?25herror\n",
            "\u001b[33mWARNING: Discarding https://files.pythonhosted.org/packages/98/a9/0e4000eabadfcff6373c0fec790863b543b919cbfec18aed60d71ba67d5d/Cartopy-0.20.3.tar.gz#sha256=0d60fa2e2fbd77c4d1f6b1f9d3b588966147f07c1b179d2d34570ac1e1b49006 (from https://pypi.org/simple/cartopy/) (requires-python:>=3.7). Command errored out with exit status 1: /usr/bin/python3 /usr/local/lib/python3.7/dist-packages/pip/_vendor/pep517/in_process/_in_process.py get_requires_for_build_wheel /tmp/tmpv1_0ezh6 Check the logs for full command output.\u001b[0m\n",
            "  Downloading Cartopy-0.20.2.tar.gz (10.8 MB)\n",
            "\u001b[K     |████████████████████████████████| 10.8 MB 38.8 MB/s \n",
            "\u001b[?25h  Installing build dependencies ... \u001b[?25l\u001b[?25hdone\n",
            "  Getting requirements to build wheel ... \u001b[?25l\u001b[?25herror\n",
            "\u001b[33mWARNING: Discarding https://files.pythonhosted.org/packages/f6/55/1e1c737dc9436b320deead73d1c455ddbb74b8b6992081863492f6f6378a/Cartopy-0.20.2.tar.gz#sha256=4d08c198ecaa50a6a6b109d0f14c070e813defc046a83ac5d7ab494f85599e35 (from https://pypi.org/simple/cartopy/) (requires-python:>=3.7). Command errored out with exit status 1: /usr/bin/python3 /usr/local/lib/python3.7/dist-packages/pip/_vendor/pep517/in_process/_in_process.py get_requires_for_build_wheel /tmp/tmpkxutw087 Check the logs for full command output.\u001b[0m\n",
            "  Downloading Cartopy-0.20.1.tar.gz (10.8 MB)\n",
            "\u001b[K     |████████████████████████████████| 10.8 MB 29.6 MB/s \n",
            "\u001b[?25h  Installing build dependencies ... \u001b[?25l\u001b[?25hdone\n",
            "  Getting requirements to build wheel ... \u001b[?25l\u001b[?25herror\n",
            "\u001b[33mWARNING: Discarding https://files.pythonhosted.org/packages/fc/59/aa52698e3838f4cd0e7eaa75bd86837e9e0b05041dbdaee3cda2fffced06/Cartopy-0.20.1.tar.gz#sha256=91f87b130e2574547a20cd634498df97d797abd12dcfd0235bc0cdbcec8b05e3 (from https://pypi.org/simple/cartopy/) (requires-python:>=3.7). Command errored out with exit status 1: /usr/bin/python3 /usr/local/lib/python3.7/dist-packages/pip/_vendor/pep517/in_process/_in_process.py get_requires_for_build_wheel /tmp/tmpns1pijny Check the logs for full command output.\u001b[0m\n",
            "  Downloading Cartopy-0.20.0.tar.gz (10.8 MB)\n",
            "\u001b[K     |████████████████████████████████| 10.8 MB 36.6 MB/s \n",
            "\u001b[?25h  Installing build dependencies ... \u001b[?25l\u001b[?25hdone\n",
            "  Getting requirements to build wheel ... \u001b[?25l\u001b[?25herror\n",
            "\u001b[33mWARNING: Discarding https://files.pythonhosted.org/packages/0f/c0/58453b036e79046d211f083880d58dcce787e7e07647ac25dc46c6555099/Cartopy-0.20.0.tar.gz#sha256=eae58aff26806e63cf115b2bce9477cedc4aa9f578c5e477b2c25cfa404f2b7a (from https://pypi.org/simple/cartopy/) (requires-python:>=3.7). Command errored out with exit status 1: /usr/bin/python3 /usr/local/lib/python3.7/dist-packages/pip/_vendor/pep517/in_process/_in_process.py get_requires_for_build_wheel /tmp/tmpvlbozo8j Check the logs for full command output.\u001b[0m\n",
            "  Downloading Cartopy-0.19.0.post1.tar.gz (12.1 MB)\n",
            "\u001b[K     |████████████████████████████████| 12.1 MB 23.5 MB/s \n",
            "\u001b[?25h  Installing build dependencies ... \u001b[?25l\u001b[?25hdone\n",
            "  Getting requirements to build wheel ... \u001b[?25l\u001b[?25hdone\n",
            "    Preparing wheel metadata ... \u001b[?25l\u001b[?25hdone\n",
            "Requirement already satisfied: numpy>=1.13.3 in /usr/local/lib/python3.7/dist-packages (from cartopy) (1.21.6)\n",
            "Requirement already satisfied: shapely>=1.5.6 in /usr/local/lib/python3.7/dist-packages (from cartopy) (1.8.2)\n",
            "Collecting pyshp>=2\n",
            "  Downloading pyshp-2.3.1-py2.py3-none-any.whl (46 kB)\n",
            "\u001b[K     |████████████████████████████████| 46 kB 4.2 MB/s \n",
            "\u001b[?25hBuilding wheels for collected packages: cartopy\n",
            "  Building wheel for cartopy (PEP 517) ... \u001b[?25l\u001b[?25hdone\n",
            "  Created wheel for cartopy: filename=Cartopy-0.19.0.post1-cp37-cp37m-linux_x86_64.whl size=12516281 sha256=4b572fe3359ecb965b46fbc87f4b1e0c91a2cb977dbfe372a422e02493387594\n",
            "  Stored in directory: /root/.cache/pip/wheels/98/01/f7/bd10aeb96fe4b518cde5f7c4f5e12c7202f85b7353a5017847\n",
            "Successfully built cartopy\n",
            "Installing collected packages: pyshp, cartopy\n",
            "Successfully installed cartopy-0.19.0.post1 pyshp-2.3.1\n"
          ]
        }
      ]
    },
    {
      "cell_type": "markdown",
      "source": [
        "## Install pysteps\n",
        "\n",
        "The following command will install the latest pysteps version from the Python Package Index (PyPI) using pip. This will also install the minimal dependencies needed to run pysteps. This is commented out, since we are using the latest version."
      ],
      "metadata": {
        "id": "pnEde2mCoRJG"
      }
    },
    {
      "cell_type": "code",
      "execution_count": 3,
      "metadata": {
        "id": "icgH5YCbAxhk"
      },
      "outputs": [],
      "source": [
        "#!pip install pysteps"
      ]
    },
    {
      "cell_type": "markdown",
      "source": [
        "Alternatively, the following command will install the latest pysteps development version from GitHub (the ERAD 2022 branch)."
      ],
      "metadata": {
        "id": "5KZdo7NgCLUd"
      }
    },
    {
      "cell_type": "code",
      "source": [
        "!pip install git+https://github.com/pySTEPS/pysteps@erad2022_short_course_fixes"
      ],
      "metadata": {
        "colab": {
          "base_uri": "https://localhost:8080/"
        },
        "id": "e0-GJJzPCbh7",
        "outputId": "8092dc36-62f4-4cff-ac6d-2387eaa5a5f8"
      },
      "execution_count": 4,
      "outputs": [
        {
          "output_type": "stream",
          "name": "stdout",
          "text": [
            "Looking in indexes: https://pypi.org/simple, https://us-python.pkg.dev/colab-wheels/public/simple/\n",
            "Collecting git+https://github.com/pySTEPS/pysteps@erad2022_short_course_fixes\n",
            "  Cloning https://github.com/pySTEPS/pysteps (to revision erad2022_short_course_fixes) to /tmp/pip-req-build-x__qxatm\n",
            "  Running command git clone -q https://github.com/pySTEPS/pysteps /tmp/pip-req-build-x__qxatm\n",
            "  Running command git checkout -b erad2022_short_course_fixes --track origin/erad2022_short_course_fixes\n",
            "  Switched to a new branch 'erad2022_short_course_fixes'\n",
            "  Branch 'erad2022_short_course_fixes' set up to track remote branch 'erad2022_short_course_fixes' from 'origin'.\n",
            "  Installing build dependencies ... \u001b[?25l\u001b[?25hdone\n",
            "  Getting requirements to build wheel ... \u001b[?25l\u001b[?25hdone\n",
            "  Installing backend dependencies ... \u001b[?25l\u001b[?25hdone\n",
            "    Preparing wheel metadata ... \u001b[?25l\u001b[?25hdone\n",
            "Requirement already satisfied: matplotlib in /usr/local/lib/python3.7/dist-packages (from pysteps==1.7.0) (3.2.2)\n",
            "Collecting jsmin\n",
            "  Using cached jsmin-3.0.1-py3-none-any.whl\n",
            "Requirement already satisfied: scipy in /usr/local/lib/python3.7/dist-packages (from pysteps==1.7.0) (1.7.3)\n",
            "Requirement already satisfied: jsonschema in /usr/local/lib/python3.7/dist-packages (from pysteps==1.7.0) (4.3.3)\n",
            "Requirement already satisfied: numpy in /usr/local/lib/python3.7/dist-packages (from pysteps==1.7.0) (1.21.6)\n",
            "Requirement already satisfied: importlib-metadata in /usr/local/lib/python3.7/dist-packages (from jsonschema->pysteps==1.7.0) (4.12.0)\n",
            "Requirement already satisfied: typing-extensions in /usr/local/lib/python3.7/dist-packages (from jsonschema->pysteps==1.7.0) (4.1.1)\n",
            "Requirement already satisfied: attrs>=17.4.0 in /usr/local/lib/python3.7/dist-packages (from jsonschema->pysteps==1.7.0) (21.4.0)\n",
            "Requirement already satisfied: pyrsistent!=0.17.0,!=0.17.1,!=0.17.2,>=0.14.0 in /usr/local/lib/python3.7/dist-packages (from jsonschema->pysteps==1.7.0) (0.18.1)\n",
            "Requirement already satisfied: importlib-resources>=1.4.0 in /usr/local/lib/python3.7/dist-packages (from jsonschema->pysteps==1.7.0) (5.9.0)\n",
            "Requirement already satisfied: zipp>=3.1.0 in /usr/local/lib/python3.7/dist-packages (from importlib-resources>=1.4.0->jsonschema->pysteps==1.7.0) (3.8.1)\n",
            "Requirement already satisfied: kiwisolver>=1.0.1 in /usr/local/lib/python3.7/dist-packages (from matplotlib->pysteps==1.7.0) (1.4.4)\n",
            "Requirement already satisfied: cycler>=0.10 in /usr/local/lib/python3.7/dist-packages (from matplotlib->pysteps==1.7.0) (0.11.0)\n",
            "Requirement already satisfied: pyparsing!=2.0.4,!=2.1.2,!=2.1.6,>=2.0.1 in /usr/local/lib/python3.7/dist-packages (from matplotlib->pysteps==1.7.0) (3.0.9)\n",
            "Requirement already satisfied: python-dateutil>=2.1 in /usr/local/lib/python3.7/dist-packages (from matplotlib->pysteps==1.7.0) (2.8.2)\n",
            "Requirement already satisfied: six>=1.5 in /usr/local/lib/python3.7/dist-packages (from python-dateutil>=2.1->matplotlib->pysteps==1.7.0) (1.15.0)\n",
            "Building wheels for collected packages: pysteps\n",
            "  Building wheel for pysteps (PEP 517) ... \u001b[?25l\u001b[?25hdone\n",
            "  Created wheel for pysteps: filename=pysteps-1.7.0-cp37-cp37m-linux_x86_64.whl size=1084496 sha256=86631273c9d97e539ae1706b394a40d4e077c9455b18a98e923f59e56d7b8305\n",
            "  Stored in directory: /tmp/pip-ephem-wheel-cache-uigeu3jz/wheels/90/71/2a/69fd1b528c687c33e5e4f6fc7cfa109ceae5327cdbeceed680\n",
            "Successfully built pysteps\n",
            "Installing collected packages: jsmin, pysteps\n",
            "Successfully installed jsmin-3.0.1 pysteps-1.7.0\n"
          ]
        }
      ]
    },
    {
      "cell_type": "markdown",
      "source": [
        "# Download the example data and prepare the configuration\n",
        "\n",
        "The steps needed for downloading the pysteps example data and setting up the initial configuration in Colab are shown below."
      ],
      "metadata": {
        "id": "AP1vLmT2EraY"
      }
    },
    {
      "cell_type": "markdown",
      "source": [
        "## Download the data\n",
        "\n",
        "We use the [pysteps.datasets.download_pysteps_data()](https://pysteps.readthedocs.io/en/latest/generated/pysteps.datasets.download_pysteps_data.html) function to download the data from the [GitHub repository](https://github.com/pySTEPS/pysteps-data)."
      ],
      "metadata": {
        "id": "lV-jlCEX2Qxn"
      }
    },
    {
      "cell_type": "code",
      "source": [
        "from pysteps.datasets import download_pysteps_data\n",
        "download_pysteps_data(\"pysteps_data\")"
      ],
      "metadata": {
        "id": "fVcB_k_HxP7Z",
        "colab": {
          "base_uri": "https://localhost:8080/"
        },
        "outputId": "7faf3156-f578-475d-a752-6ef1a62d1977"
      },
      "execution_count": 5,
      "outputs": [
        {
          "output_type": "stream",
          "name": "stdout",
          "text": [
            "Pysteps configuration file found at: /usr/local/lib/python3.7/dist-packages/pysteps/pystepsrc\n",
            "\n",
            "Downloading pysteps-data from github.\n",
            "Progress: (267.9 Mb) - Time left: unknown\n",
            "Download complete\n",
            "\n"
          ]
        }
      ]
    },
    {
      "cell_type": "markdown",
      "source": [
        "## Create the pystepsrc file and load configuration\n",
        "\n",
        "A pystepsrc file needs to be created to make the example datasets accessible to pysteps. To create this file, we will use the [pysteps.datasets.create_default_pystepsrc()](https://pysteps.readthedocs.io/en/latest/generated/pysteps.datasets.create_default_pystepsrc.html#pysteps.datasets.create_default_pystepsrc) helper function and load the configuration file by using [pysteps.load_config_file](https://pysteps.readthedocs.io/en/stable/generated/pysteps.load_config_file.html)."
      ],
      "metadata": {
        "id": "5O-rQDmyFVvX"
      }
    },
    {
      "cell_type": "code",
      "source": [
        "from pysteps.datasets import create_default_pystepsrc\n",
        "config_file_path = create_default_pystepsrc(\"pysteps_data\")"
      ],
      "metadata": {
        "id": "7ZgbhuycxbSa"
      },
      "execution_count": 6,
      "outputs": []
    },
    {
      "cell_type": "markdown",
      "source": [
        "When installing pysteps locally, see [the documentation](https://pysteps.readthedocs.io/en/stable/user_guide/set_pystepsrc.html) for additional instructions about the pystepsrc file."
      ],
      "metadata": {
        "id": "zvIciPLBIkeY"
      }
    },
    {
      "cell_type": "markdown",
      "source": [
        "Since pysteps was already installed in this notebook, we need to load the new configuration file and update the default configuration."
      ],
      "metadata": {
        "id": "hO77GLpkIB6M"
      }
    },
    {
      "cell_type": "code",
      "source": [
        "import pysteps\n",
        "_ = pysteps.load_config_file(config_file_path, verbose=True)"
      ],
      "metadata": {
        "colab": {
          "base_uri": "https://localhost:8080/"
        },
        "id": "eCA7Cf7dIGle",
        "outputId": "d882f31b-9e70-4c25-83fe-d47e37763f43"
      },
      "execution_count": 7,
      "outputs": [
        {
          "output_type": "stream",
          "name": "stdout",
          "text": [
            "Pysteps configuration file found at: /root/.pysteps/pystepsrc\n",
            "\n"
          ]
        }
      ]
    }
  ]
}